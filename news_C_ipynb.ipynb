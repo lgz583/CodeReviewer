{
  "nbformat": 4,
  "nbformat_minor": 0,
  "metadata": {
    "colab": {
      "name": "“news_C.ipynb”的副本",
      "version": "0.3.2",
      "provenance": [],
      "toc_visible": true,
      "include_colab_link": true
    },
    "language_info": {
      "codemirror_mode": {
        "name": "ipython",
        "version": 3
      },
      "file_extension": ".py",
      "mimetype": "text/x-python",
      "name": "python",
      "nbconvert_exporter": "python",
      "pygments_lexer": "ipython3",
      "version": "3.7.3"
    },
    "kernelspec": {
      "name": "python3",
      "display_name": "Python 3"
    },
    "accelerator": "GPU"
  },
  "cells": [
    {
      "cell_type": "markdown",
      "metadata": {
        "id": "view-in-github",
        "colab_type": "text"
      },
      "source": [
        "<a href=\"https://colab.research.google.com/github/lgz583/CodeReviewer/blob/master/news_C_ipynb.ipynb\" target=\"_parent\"><img src=\"https://colab.research.google.com/assets/colab-badge.svg\" alt=\"Open In Colab\"/></a>"
      ]
    },
    {
      "cell_type": "markdown",
      "metadata": {
        "id": "EGWFtlEnwVim",
        "colab_type": "text"
      },
      "source": [
        "### 数据源：http://www.sogou.com/labs/resource/ca.php ###"
      ]
    },
    {
      "cell_type": "code",
      "metadata": {
        "id": "1fnTWmNwwVii",
        "colab_type": "code",
        "colab": {}
      },
      "source": [
        "import pandas as pd\n",
        "import jieba\n",
        "#pip install jieba\n"
      ],
      "execution_count": 0,
      "outputs": []
    },
    {
      "cell_type": "code",
      "metadata": {
        "id": "h3Yp7CDvwVin",
        "colab_type": "code",
        "outputId": "debe3e54-681f-43f8-b431-3904840c10e4",
        "colab": {
          "base_uri": "https://localhost:8080/",
          "height": 204
        }
      },
      "source": [
        "df_news = pd.read_csv('abcd.csv',names=['data','label'],encoding='utf-8')\n",
        "#df_news = pd.read_csv('./data/test1.csv',names=['data'],encoding='utf-8')\n",
        "df_news = df_news.dropna()\n",
        "df_news.head()"
      ],
      "execution_count": 0,
      "outputs": [
        {
          "output_type": "execute_result",
          "data": {
            "text/html": [
              "<div>\n",
              "<style scoped>\n",
              "    .dataframe tbody tr th:only-of-type {\n",
              "        vertical-align: middle;\n",
              "    }\n",
              "\n",
              "    .dataframe tbody tr th {\n",
              "        vertical-align: top;\n",
              "    }\n",
              "\n",
              "    .dataframe thead th {\n",
              "        text-align: right;\n",
              "    }\n",
              "</style>\n",
              "<table border=\"1\" class=\"dataframe\">\n",
              "  <thead>\n",
              "    <tr style=\"text-align: right;\">\n",
              "      <th></th>\n",
              "      <th>data</th>\n",
              "      <th>label</th>\n",
              "    </tr>\n",
              "  </thead>\n",
              "  <tbody>\n",
              "    <tr>\n",
              "      <th>0</th>\n",
              "      <td>[抓狂]我竟然被那个考了车牌几个月但一直没有开过车的老妈笑话我笨！</td>\n",
              "      <td>anger</td>\n",
              "    </tr>\n",
              "    <tr>\n",
              "      <th>1</th>\n",
              "      <td>中午吃多了，被国航一转场，全消食了。</td>\n",
              "      <td>anger</td>\n",
              "    </tr>\n",
              "    <tr>\n",
              "      <th>2</th>\n",
              "      <td>介要是来得晚可咋办啊！</td>\n",
              "      <td>anger</td>\n",
              "    </tr>\n",
              "    <tr>\n",
              "      <th>3</th>\n",
              "      <td>好白菜都给猪拱了..</td>\n",
              "      <td>anger</td>\n",
              "    </tr>\n",
              "    <tr>\n",
              "      <th>4</th>\n",
              "      <td>中国这个国家真是没希望了，我刚才放到博客中国上的那篇文章，没有几个看得懂的，全是些浅薄无知之...</td>\n",
              "      <td>anger</td>\n",
              "    </tr>\n",
              "  </tbody>\n",
              "</table>\n",
              "</div>"
            ],
            "text/plain": [
              "                                                data  label\n",
              "0                  [抓狂]我竟然被那个考了车牌几个月但一直没有开过车的老妈笑话我笨！  anger\n",
              "1                                 中午吃多了，被国航一转场，全消食了。  anger\n",
              "2                                        介要是来得晚可咋办啊！  anger\n",
              "3                                         好白菜都给猪拱了..  anger\n",
              "4  中国这个国家真是没希望了，我刚才放到博客中国上的那篇文章，没有几个看得懂的，全是些浅薄无知之...  anger"
            ]
          },
          "metadata": {
            "tags": []
          },
          "execution_count": 6
        }
      ]
    },
    {
      "cell_type": "code",
      "metadata": {
        "id": "cwuI17SUwVir",
        "colab_type": "code",
        "outputId": "48927904-41ed-4387-e0b1-49e4ed193586",
        "colab": {
          "base_uri": "https://localhost:8080/",
          "height": 34
        }
      },
      "source": [
        "df_news.shape"
      ],
      "execution_count": 0,
      "outputs": [
        {
          "output_type": "execute_result",
          "data": {
            "text/plain": [
              "(19489, 2)"
            ]
          },
          "metadata": {
            "tags": []
          },
          "execution_count": 7
        }
      ]
    },
    {
      "cell_type": "markdown",
      "metadata": {
        "id": "GdTCORqBwViy",
        "colab_type": "text"
      },
      "source": [
        "###  分词：使用结吧分词器 ###"
      ]
    },
    {
      "cell_type": "code",
      "metadata": {
        "id": "vCNPuPTbwVi0",
        "colab_type": "code",
        "outputId": "c92d238f-c06d-4609-dd04-08a9a7adb254",
        "colab": {
          "base_uri": "https://localhost:8080/",
          "height": 34
        }
      },
      "source": [
        "content = df_news.data.values.tolist()\n",
        "print (content[0])"
      ],
      "execution_count": 0,
      "outputs": [
        {
          "output_type": "stream",
          "text": [
            "[抓狂]我竟然被那个考了车牌几个月但一直没有开过车的老妈笑话我笨！\n"
          ],
          "name": "stdout"
        }
      ]
    },
    {
      "cell_type": "code",
      "metadata": {
        "id": "QjV9ThttwVi6",
        "colab_type": "code",
        "outputId": "3ce509bb-917e-4880-e28b-5ff6a9195a5d",
        "colab": {
          "base_uri": "https://localhost:8080/",
          "height": 85
        }
      },
      "source": [
        "content_S = []\n",
        "for line in content:\n",
        "    current_segment = jieba.lcut(line)\n",
        "    if len(current_segment) >= 1 and current_segment != '\\r\\n': #换行符\n",
        "        content_S.append(current_segment)"
      ],
      "execution_count": 0,
      "outputs": [
        {
          "output_type": "stream",
          "text": [
            "Building prefix dict from the default dictionary ...\n",
            "Dumping model to file cache /tmp/jieba.cache\n",
            "Loading model cost 0.896 seconds.\n",
            "Prefix dict has been built succesfully.\n"
          ],
          "name": "stderr"
        }
      ]
    },
    {
      "cell_type": "code",
      "metadata": {
        "id": "lkhoGbU8wVi_",
        "colab_type": "code",
        "outputId": "bcd4577f-83d5-4c42-9c78-45021131e034",
        "colab": {
          "base_uri": "https://localhost:8080/",
          "height": 391
        }
      },
      "source": [
        "content_S[0]"
      ],
      "execution_count": 0,
      "outputs": [
        {
          "output_type": "execute_result",
          "data": {
            "text/plain": [
              "['[',\n",
              " '抓狂',\n",
              " ']',\n",
              " '我',\n",
              " '竟然',\n",
              " '被',\n",
              " '那个',\n",
              " '考了',\n",
              " '车牌',\n",
              " '几个',\n",
              " '月',\n",
              " '但',\n",
              " '一直',\n",
              " '没有',\n",
              " '开过',\n",
              " '车',\n",
              " '的',\n",
              " '老妈',\n",
              " '笑话',\n",
              " '我',\n",
              " '笨',\n",
              " '！']"
            ]
          },
          "metadata": {
            "tags": []
          },
          "execution_count": 10
        }
      ]
    },
    {
      "cell_type": "code",
      "metadata": {
        "id": "I9bpCdmVwVjC",
        "colab_type": "code",
        "outputId": "4a346727-3119-40ef-98a6-fbf9620c7a1e",
        "colab": {
          "base_uri": "https://localhost:8080/",
          "height": 204
        }
      },
      "source": [
        "df_content=pd.DataFrame({'data_S':content_S})\n",
        "df_content.head()"
      ],
      "execution_count": 0,
      "outputs": [
        {
          "output_type": "execute_result",
          "data": {
            "text/html": [
              "<div>\n",
              "<style scoped>\n",
              "    .dataframe tbody tr th:only-of-type {\n",
              "        vertical-align: middle;\n",
              "    }\n",
              "\n",
              "    .dataframe tbody tr th {\n",
              "        vertical-align: top;\n",
              "    }\n",
              "\n",
              "    .dataframe thead th {\n",
              "        text-align: right;\n",
              "    }\n",
              "</style>\n",
              "<table border=\"1\" class=\"dataframe\">\n",
              "  <thead>\n",
              "    <tr style=\"text-align: right;\">\n",
              "      <th></th>\n",
              "      <th>data_S</th>\n",
              "    </tr>\n",
              "  </thead>\n",
              "  <tbody>\n",
              "    <tr>\n",
              "      <th>0</th>\n",
              "      <td>[[, 抓狂, ], 我, 竟然, 被, 那个, 考了, 车牌, 几个, 月, 但, 一直,...</td>\n",
              "    </tr>\n",
              "    <tr>\n",
              "      <th>1</th>\n",
              "      <td>[中午, 吃, 多, 了, ，, 被, 国航, 一, 转场, ，, 全, 消食, 了, 。]</td>\n",
              "    </tr>\n",
              "    <tr>\n",
              "      <th>2</th>\n",
              "      <td>[介, 要是, 来得, 晚可, 咋办, 啊, ！]</td>\n",
              "    </tr>\n",
              "    <tr>\n",
              "      <th>3</th>\n",
              "      <td>[好, 白菜, 都, 给, 猪, 拱, 了, ..]</td>\n",
              "    </tr>\n",
              "    <tr>\n",
              "      <th>4</th>\n",
              "      <td>[中国, 这个, 国家, 真是, 没, 希望, 了, ，, 我, 刚才, 放到, 博客, 中...</td>\n",
              "    </tr>\n",
              "  </tbody>\n",
              "</table>\n",
              "</div>"
            ],
            "text/plain": [
              "                                              data_S\n",
              "0  [[, 抓狂, ], 我, 竟然, 被, 那个, 考了, 车牌, 几个, 月, 但, 一直,...\n",
              "1     [中午, 吃, 多, 了, ，, 被, 国航, 一, 转场, ，, 全, 消食, 了, 。]\n",
              "2                          [介, 要是, 来得, 晚可, 咋办, 啊, ！]\n",
              "3                         [好, 白菜, 都, 给, 猪, 拱, 了, ..]\n",
              "4  [中国, 这个, 国家, 真是, 没, 希望, 了, ，, 我, 刚才, 放到, 博客, 中..."
            ]
          },
          "metadata": {
            "tags": []
          },
          "execution_count": 11
        }
      ]
    },
    {
      "cell_type": "code",
      "metadata": {
        "id": "M8EWEpNdwVjK",
        "colab_type": "code",
        "outputId": "b727b3fb-6de0-4e5c-b789-d748f92a3a57",
        "colab": {
          "base_uri": "https://localhost:8080/",
          "height": 34
        }
      },
      "source": [
        "stopwords=pd.read_csv(\"stopwords.txt\",index_col=False,sep=\"\\n\",quoting=3,names=['stopword'], encoding='utf-8')\n",
        "stopwords.shape"
      ],
      "execution_count": 0,
      "outputs": [
        {
          "output_type": "execute_result",
          "data": {
            "text/plain": [
              "(2613, 1)"
            ]
          },
          "metadata": {
            "tags": []
          },
          "execution_count": 12
        }
      ]
    },
    {
      "cell_type": "code",
      "metadata": {
        "id": "il2iMnoowVjQ",
        "colab_type": "code",
        "colab": {}
      },
      "source": [
        "def drop_stopwords(contents,stopwords):\n",
        "    contents_clean = []\n",
        "    all_words = []\n",
        "    for line in contents:\n",
        "        line_clean = []\n",
        "        for word in line:\n",
        "            if word in stopwords:\n",
        "                continue\n",
        "            line_clean.append(word)\n",
        "            all_words.append(str(word))\n",
        "            \n",
        "        if line_clean is None:\n",
        "            line_clean.append(\"空\")\n",
        "        contents_clean.append(line_clean)\n",
        "    return contents_clean,all_words\n",
        "    #print (contents_clean)\n",
        "        \n",
        "\n",
        "contents = df_content.data_S.values.tolist()    \n",
        "stopwords = stopwords.stopword.values.tolist()\n",
        "data_clean,all_words = drop_stopwords(contents,stopwords)\n",
        "\n",
        "#df_content.content_S.isin(stopwords.stopword)\n",
        "#df_content=df_content[~df_content.content_S.isin(stopwords.stopword)]\n",
        "#df_content.head()"
      ],
      "execution_count": 0,
      "outputs": []
    },
    {
      "cell_type": "code",
      "metadata": {
        "id": "fezWtxfOwVjW",
        "colab_type": "code",
        "outputId": "9a60d383-e743-41c5-d5ba-1cf7cd946115",
        "colab": {
          "base_uri": "https://localhost:8080/",
          "height": 204
        }
      },
      "source": [
        "df_content=pd.DataFrame({'data_clean':data_clean})\n",
        "df_content.head()"
      ],
      "execution_count": 0,
      "outputs": [
        {
          "output_type": "execute_result",
          "data": {
            "text/html": [
              "<div>\n",
              "<style scoped>\n",
              "    .dataframe tbody tr th:only-of-type {\n",
              "        vertical-align: middle;\n",
              "    }\n",
              "\n",
              "    .dataframe tbody tr th {\n",
              "        vertical-align: top;\n",
              "    }\n",
              "\n",
              "    .dataframe thead th {\n",
              "        text-align: right;\n",
              "    }\n",
              "</style>\n",
              "<table border=\"1\" class=\"dataframe\">\n",
              "  <thead>\n",
              "    <tr style=\"text-align: right;\">\n",
              "      <th></th>\n",
              "      <th>data_clean</th>\n",
              "    </tr>\n",
              "  </thead>\n",
              "  <tbody>\n",
              "    <tr>\n",
              "      <th>0</th>\n",
              "      <td>[抓狂, 考了, 车牌, 几个, 开过, 车, 老妈, 笑话, 笨]</td>\n",
              "    </tr>\n",
              "    <tr>\n",
              "      <th>1</th>\n",
              "      <td>[中午, 吃, 国航, 转场, 全, 消食]</td>\n",
              "    </tr>\n",
              "    <tr>\n",
              "      <th>2</th>\n",
              "      <td>[介, 来得, 晚可, 咋办]</td>\n",
              "    </tr>\n",
              "    <tr>\n",
              "      <th>3</th>\n",
              "      <td>[白菜, 猪, 拱]</td>\n",
              "    </tr>\n",
              "    <tr>\n",
              "      <th>4</th>\n",
              "      <td>[中国, 国家, 希望, 放到, 博客, 中国, 篇文章, 几个, 看得懂, 全是, 浅薄,...</td>\n",
              "    </tr>\n",
              "  </tbody>\n",
              "</table>\n",
              "</div>"
            ],
            "text/plain": [
              "                                          data_clean\n",
              "0                 [抓狂, 考了, 车牌, 几个, 开过, 车, 老妈, 笑话, 笨]\n",
              "1                             [中午, 吃, 国航, 转场, 全, 消食]\n",
              "2                                    [介, 来得, 晚可, 咋办]\n",
              "3                                         [白菜, 猪, 拱]\n",
              "4  [中国, 国家, 希望, 放到, 博客, 中国, 篇文章, 几个, 看得懂, 全是, 浅薄,..."
            ]
          },
          "metadata": {
            "tags": []
          },
          "execution_count": 14
        }
      ]
    },
    {
      "cell_type": "code",
      "metadata": {
        "id": "aTTULAnhwVjd",
        "colab_type": "code",
        "outputId": "27ada680-bfb0-451a-84a3-a0e31424b591",
        "colab": {
          "base_uri": "https://localhost:8080/",
          "height": 204
        }
      },
      "source": [
        "df_all_words=pd.DataFrame({'all_words':all_words})\n",
        "df_all_words.head()"
      ],
      "execution_count": 0,
      "outputs": [
        {
          "output_type": "execute_result",
          "data": {
            "text/html": [
              "<div>\n",
              "<style scoped>\n",
              "    .dataframe tbody tr th:only-of-type {\n",
              "        vertical-align: middle;\n",
              "    }\n",
              "\n",
              "    .dataframe tbody tr th {\n",
              "        vertical-align: top;\n",
              "    }\n",
              "\n",
              "    .dataframe thead th {\n",
              "        text-align: right;\n",
              "    }\n",
              "</style>\n",
              "<table border=\"1\" class=\"dataframe\">\n",
              "  <thead>\n",
              "    <tr style=\"text-align: right;\">\n",
              "      <th></th>\n",
              "      <th>all_words</th>\n",
              "    </tr>\n",
              "  </thead>\n",
              "  <tbody>\n",
              "    <tr>\n",
              "      <th>0</th>\n",
              "      <td>抓狂</td>\n",
              "    </tr>\n",
              "    <tr>\n",
              "      <th>1</th>\n",
              "      <td>考了</td>\n",
              "    </tr>\n",
              "    <tr>\n",
              "      <th>2</th>\n",
              "      <td>车牌</td>\n",
              "    </tr>\n",
              "    <tr>\n",
              "      <th>3</th>\n",
              "      <td>几个</td>\n",
              "    </tr>\n",
              "    <tr>\n",
              "      <th>4</th>\n",
              "      <td>开过</td>\n",
              "    </tr>\n",
              "  </tbody>\n",
              "</table>\n",
              "</div>"
            ],
            "text/plain": [
              "  all_words\n",
              "0        抓狂\n",
              "1        考了\n",
              "2        车牌\n",
              "3        几个\n",
              "4        开过"
            ]
          },
          "metadata": {
            "tags": []
          },
          "execution_count": 15
        }
      ]
    },
    {
      "cell_type": "code",
      "metadata": {
        "id": "fjnzTYs6wVjl",
        "colab_type": "code",
        "outputId": "9a28f388-88de-44f0-e3dd-1762c915cbb9",
        "colab": {
          "base_uri": "https://localhost:8080/",
          "height": 275
        }
      },
      "source": [
        "import numpy\n",
        "words_count=df_all_words.groupby(by=['all_words'])['all_words'].agg({\"count\":numpy.size})\n",
        "words_count=words_count.reset_index().sort_values(by=[\"count\"],ascending=False)\n",
        "words_count.head()"
      ],
      "execution_count": 0,
      "outputs": [
        {
          "output_type": "stream",
          "text": [
            "/usr/local/lib/python3.6/dist-packages/ipykernel_launcher.py:2: FutureWarning: using a dict on a Series for aggregation\n",
            "is deprecated and will be removed in a future version\n",
            "  \n"
          ],
          "name": "stderr"
        },
        {
          "output_type": "execute_result",
          "data": {
            "text/html": [
              "<div>\n",
              "<style scoped>\n",
              "    .dataframe tbody tr th:only-of-type {\n",
              "        vertical-align: middle;\n",
              "    }\n",
              "\n",
              "    .dataframe tbody tr th {\n",
              "        vertical-align: top;\n",
              "    }\n",
              "\n",
              "    .dataframe thead th {\n",
              "        text-align: right;\n",
              "    }\n",
              "</style>\n",
              "<table border=\"1\" class=\"dataframe\">\n",
              "  <thead>\n",
              "    <tr style=\"text-align: right;\">\n",
              "      <th></th>\n",
              "      <th>all_words</th>\n",
              "      <th>count</th>\n",
              "    </tr>\n",
              "  </thead>\n",
              "  <tbody>\n",
              "    <tr>\n",
              "      <th>1667</th>\n",
              "      <td>​</td>\n",
              "      <td>23563</td>\n",
              "    </tr>\n",
              "    <tr>\n",
              "      <th>0</th>\n",
              "      <td></td>\n",
              "      <td>2748</td>\n",
              "    </tr>\n",
              "    <tr>\n",
              "      <th>38401</th>\n",
              "      <td>说</td>\n",
              "      <td>1685</td>\n",
              "    </tr>\n",
              "    <tr>\n",
              "      <th>20213</th>\n",
              "      <td>想</td>\n",
              "      <td>1192</td>\n",
              "    </tr>\n",
              "    <tr>\n",
              "      <th>29745</th>\n",
              "      <td>爱</td>\n",
              "      <td>1142</td>\n",
              "    </tr>\n",
              "  </tbody>\n",
              "</table>\n",
              "</div>"
            ],
            "text/plain": [
              "      all_words  count\n",
              "1667          ​  23563\n",
              "0                 2748\n",
              "38401         说   1685\n",
              "20213         想   1192\n",
              "29745         爱   1142"
            ]
          },
          "metadata": {
            "tags": []
          },
          "execution_count": 16
        }
      ]
    },
    {
      "cell_type": "code",
      "metadata": {
        "id": "L7akkP8RwVjs",
        "colab_type": "code",
        "outputId": "588a2e9c-d7c3-4510-9540-ec7991eb494b",
        "colab": {}
      },
      "source": [
        "'''\n",
        "from wordcloud import WordCloud\n",
        "import matplotlib.pyplot as plt\n",
        "%matplotlib inline\n",
        "import matplotlib\n",
        "matplotlib.rcParams['figure.figsize'] = (10.0, 5.0)\n",
        "\n",
        "wordcloud=WordCloud(font_path=\"./data/simhei.ttf\",background_color=\"white\",max_font_size=80)\n",
        "word_frequence = {x[0]:x[1] for x in words_count.head(100).values}\n",
        "wordcloud=wordcloud.fit_words(word_frequence)\n",
        "plt.imshow(wordcloud)\n",
        "'''"
      ],
      "execution_count": 0,
      "outputs": [
        {
          "output_type": "execute_result",
          "data": {
            "text/plain": [
              "<matplotlib.image.AxesImage at 0x1203d8cf8>"
            ]
          },
          "metadata": {
            "tags": []
          },
          "execution_count": 35
        },
        {
          "output_type": "display_data",
          "data": {
            "image/png": "[encoded data removed]",
            "text/plain": [
              "<Figure size 720x360 with 1 Axes>"
            ]
          },
          "metadata": {
            "tags": []
          }
        }
      ]
    },
    {
      "cell_type": "markdown",
      "metadata": {
        "id": "N8ik7O1dwVjw",
        "colab_type": "text"
      },
      "source": [
        "###  TF-IDF ：提取关键词###"
      ]
    },
    {
      "cell_type": "code",
      "metadata": {
        "scrolled": true,
        "id": "NzSyrehiwVjz",
        "colab_type": "code",
        "outputId": "5fcc1ecc-e6b2-4495-ca71-dba83d4e803f",
        "colab": {}
      },
      "source": [
        "'''\n",
        "import jieba.analyse\n",
        "index = 4000\n",
        "print (df_news['data'][index])\n",
        "content_S_str = \"\".join(content_S[index])  \n",
        "print (\"  \".join(jieba.analyse.extract_tags(content_S_str, topK=5, withWeight=False)))\n",
        "'''"
      ],
      "execution_count": 0,
      "outputs": [
        {
          "output_type": "stream",
          "text": [
            "大人一年120元小孩60元一年，市民可持户口簿到当地社保局办理。\n",
            "沃尔科特  奎尔  沙文  萨尼亚  拉奇\n"
          ],
          "name": "stdout"
        }
      ]
    },
    {
      "cell_type": "markdown",
      "metadata": {
        "id": "Rn2RtynDwVj5",
        "colab_type": "text"
      },
      "source": [
        "###  LDA ：主题模型###\n",
        "\n",
        "格式要求：list of list形式，分词好的的整个语料"
      ]
    },
    {
      "cell_type": "code",
      "metadata": {
        "id": "WU8Zdxl1wVj7",
        "colab_type": "code",
        "outputId": "856cd80e-d235-4860-b60f-5fbcb4a9f359",
        "colab": {
          "base_uri": "https://localhost:8080/",
          "height": 34
        }
      },
      "source": [
        "'''\n",
        "from gensim import corpora, models, similarities\n",
        "import gensim\n",
        "#http://radimrehurek.com/gensim/\n",
        "'''"
      ],
      "execution_count": 0,
      "outputs": [
        {
          "output_type": "execute_result",
          "data": {
            "text/plain": [
              "'\\nfrom gensim import corpora, models, similarities\\nimport gensim\\n#http://radimrehurek.com/gensim/\\n'"
            ]
          },
          "metadata": {
            "tags": []
          },
          "execution_count": 26
        }
      ]
    },
    {
      "cell_type": "code",
      "metadata": {
        "id": "y2TPqhmFwVj9",
        "colab_type": "code",
        "colab": {}
      },
      "source": [
        "\n",
        "'''#做映射，相当于词袋\n",
        "dictionary = corpora.Dictionary(data_clean)\n",
        "corpus = [dictionary.doc2bow(sentence) for sentence in data_clean]\n",
        "'''"
      ],
      "execution_count": 0,
      "outputs": []
    },
    {
      "cell_type": "code",
      "metadata": {
        "id": "jgp9PUPawVkB",
        "colab_type": "code",
        "colab": {}
      },
      "source": [
        "'''lda = gensim.models.ldamodel.LdaModel(corpus=corpus, id2word=dictionary, num_topics=5) #类似Kmeans自己指定K值'''"
      ],
      "execution_count": 0,
      "outputs": []
    },
    {
      "cell_type": "code",
      "metadata": {
        "id": "esY-z7QVwVkD",
        "colab_type": "code",
        "outputId": "799251ef-91c1-4897-cfa2-db23ccef86ce",
        "colab": {}
      },
      "source": [
        "#一号分类结果\n",
        "'''\n",
        "print (lda.print_topic(1, topn=5))\n",
        "'''"
      ],
      "execution_count": 0,
      "outputs": [
        {
          "output_type": "stream",
          "text": [
            "0.021*\"说\" + 0.012*\"吃\" + 0.009*\"朋友\" + 0.007*\"想\" + 0.005*\"晚上\"\n"
          ],
          "name": "stdout"
        }
      ]
    },
    {
      "cell_type": "code",
      "metadata": {
        "id": "s81JdBN_wVkI",
        "colab_type": "code",
        "outputId": "f82cdcbd-dab6-4271-d154-00f436f7f4b6",
        "colab": {}
      },
      "source": [
        "'''\n",
        "for topic in lda.print_topics(num_topics=20, num_words=5):\n",
        "    print (topic[1])\n",
        "'''"
      ],
      "execution_count": 0,
      "outputs": [
        {
          "output_type": "stream",
          "text": [
            "0.009*\"泪\" + 0.008*\"幸福\" + 0.007*\"说\" + 0.006*\"希望\" + 0.006*\"特\"\n",
            "0.021*\"说\" + 0.012*\"吃\" + 0.009*\"朋友\" + 0.007*\"想\" + 0.005*\"晚上\"\n",
            "0.097*\" \" + 0.008*\"万人\" + 0.006*\"中国\" + 0.005*\"爱\" + 0.003*\"2011\"\n",
            "0.010*\"想\" + 0.008*\"做\" + 0.008*\"男人\" + 0.007*\"喜欢\" + 0.007*\"回复\"\n",
            "0.018*\"爱\" + 0.008*\"街上\" + 0.006*\"说\" + 0.006*\"一种\" + 0.005*\"分享\"\n"
          ],
          "name": "stdout"
        }
      ]
    },
    {
      "cell_type": "code",
      "metadata": {
        "id": "aqgF_7N1wVkL",
        "colab_type": "code",
        "outputId": "d1382392-be55-45a8-88ba-4e57da9806b3",
        "colab": {
          "base_uri": "https://localhost:8080/",
          "height": 204
        }
      },
      "source": [
        "df_train=pd.DataFrame({'data_clean':data_clean,'label':df_news['label']})\n",
        "df_train.tail()"
      ],
      "execution_count": 0,
      "outputs": [
        {
          "output_type": "execute_result",
          "data": {
            "text/html": [
              "<div>\n",
              "<style scoped>\n",
              "    .dataframe tbody tr th:only-of-type {\n",
              "        vertical-align: middle;\n",
              "    }\n",
              "\n",
              "    .dataframe tbody tr th {\n",
              "        vertical-align: top;\n",
              "    }\n",
              "\n",
              "    .dataframe thead th {\n",
              "        text-align: right;\n",
              "    }\n",
              "</style>\n",
              "<table border=\"1\" class=\"dataframe\">\n",
              "  <thead>\n",
              "    <tr style=\"text-align: right;\">\n",
              "      <th></th>\n",
              "      <th>data_clean</th>\n",
              "      <th>label</th>\n",
              "    </tr>\n",
              "  </thead>\n",
              "  <tbody>\n",
              "    <tr>\n",
              "      <th>19484</th>\n",
              "      <td>[嫌弃]</td>\n",
              "      <td>sad</td>\n",
              "    </tr>\n",
              "    <tr>\n",
              "      <th>19485</th>\n",
              "      <td>[表达, 意义, 潜白, 生活, 陷入, 未, 经历, 往昔, 羡慕, 中, 无法自拔]</td>\n",
              "      <td>sad</td>\n",
              "    </tr>\n",
              "    <tr>\n",
              "      <th>19486</th>\n",
              "      <td>[话, 说, 刚飞, 沈阳, 回来, 送客, 客人, 怒吼, 绕, 圈绕, 半个, 小时]</td>\n",
              "      <td>sad</td>\n",
              "    </tr>\n",
              "    <tr>\n",
              "      <th>19487</th>\n",
              "      <td>[马路上, 车辆,  , 惭愧, 中国]</td>\n",
              "      <td>sad</td>\n",
              "    </tr>\n",
              "    <tr>\n",
              "      <th>19488</th>\n",
              "      <td>[宝贝, 一刻, 想, 太, 挥霍, 快乐, 便会, 增加, 离别, 感伤]</td>\n",
              "      <td>sad</td>\n",
              "    </tr>\n",
              "  </tbody>\n",
              "</table>\n",
              "</div>"
            ],
            "text/plain": [
              "                                          data_clean label\n",
              "19484                                           [嫌弃]   sad\n",
              "19485   [表达, 意义, 潜白, 生活, 陷入, 未, 经历, 往昔, 羡慕, 中, 无法自拔]   sad\n",
              "19486  [话, 说, 刚飞, 沈阳, 回来, 送客, 客人, 怒吼, 绕, 圈绕, 半个, 小时]   sad\n",
              "19487                           [马路上, 车辆,  , 惭愧, 中国]   sad\n",
              "19488         [宝贝, 一刻, 想, 太, 挥霍, 快乐, 便会, 增加, 离别, 感伤]   sad"
            ]
          },
          "metadata": {
            "tags": []
          },
          "execution_count": 17
        }
      ]
    },
    {
      "cell_type": "code",
      "metadata": {
        "id": "HJ96rPLTwVkO",
        "colab_type": "code",
        "outputId": "40638c55-60d1-41f3-8b2b-ed00597dae8d",
        "colab": {
          "base_uri": "https://localhost:8080/",
          "height": 51
        }
      },
      "source": [
        "print(df_train.shape)\n",
        "print(type(df_train.label))"
      ],
      "execution_count": 0,
      "outputs": [
        {
          "output_type": "stream",
          "text": [
            "(19489, 2)\n",
            "<class 'pandas.core.series.Series'>\n"
          ],
          "name": "stdout"
        }
      ]
    },
    {
      "cell_type": "code",
      "metadata": {
        "id": "1aOlPEhXwVkX",
        "colab_type": "code",
        "outputId": "56269819-d2f0-4754-b203-b4400c9abd8a",
        "colab": {
          "base_uri": "https://localhost:8080/",
          "height": 187
        }
      },
      "source": [
        "print(df_train.label.unique())\n",
        "print(df_train.label.value_counts())\n",
        "#type(df_train)"
      ],
      "execution_count": 0,
      "outputs": [
        {
          "output_type": "stream",
          "text": [
            "['anger' 'anxious' 'disgust' 'sad' 'happy' 'hope' 'like' 'surprise']\n",
            "sad         5492\n",
            "like        4150\n",
            "disgust     3311\n",
            "happy       3241\n",
            "anger       1383\n",
            "hope        1179\n",
            "surprise     486\n",
            "anxious      247\n",
            "Name: label, dtype: int64\n"
          ],
          "name": "stdout"
        }
      ]
    },
    {
      "cell_type": "code",
      "metadata": {
        "id": "rad-ABIVwVkd",
        "colab_type": "code",
        "outputId": "acb0cb6a-8771-46a1-fc5e-1c28a1be4804",
        "colab": {
          "base_uri": "https://localhost:8080/",
          "height": 669
        }
      },
      "source": [
        "#label_mapping = {1: 1, 0: 0}\n",
        "label_mapping = {\"anger\": 1, \"anxious\": 2, \"disgust\": 3, \"sad\": 4, \"happy\":5, \"hope\": 6,\"like\": 7,\"surprise\": 8}\n",
        "df_train['label'] = df_train['label'].map(label_mapping)\n",
        "df_train.head(20)"
      ],
      "execution_count": 0,
      "outputs": [
        {
          "output_type": "execute_result",
          "data": {
            "text/html": [
              "<div>\n",
              "<style scoped>\n",
              "    .dataframe tbody tr th:only-of-type {\n",
              "        vertical-align: middle;\n",
              "    }\n",
              "\n",
              "    .dataframe tbody tr th {\n",
              "        vertical-align: top;\n",
              "    }\n",
              "\n",
              "    .dataframe thead th {\n",
              "        text-align: right;\n",
              "    }\n",
              "</style>\n",
              "<table border=\"1\" class=\"dataframe\">\n",
              "  <thead>\n",
              "    <tr style=\"text-align: right;\">\n",
              "      <th></th>\n",
              "      <th>data_clean</th>\n",
              "      <th>label</th>\n",
              "    </tr>\n",
              "  </thead>\n",
              "  <tbody>\n",
              "    <tr>\n",
              "      <th>0</th>\n",
              "      <td>[抓狂, 考了, 车牌, 几个, 开过, 车, 老妈, 笑话, 笨]</td>\n",
              "      <td>1</td>\n",
              "    </tr>\n",
              "    <tr>\n",
              "      <th>1</th>\n",
              "      <td>[中午, 吃, 国航, 转场, 全, 消食]</td>\n",
              "      <td>1</td>\n",
              "    </tr>\n",
              "    <tr>\n",
              "      <th>2</th>\n",
              "      <td>[介, 来得, 晚可, 咋办]</td>\n",
              "      <td>1</td>\n",
              "    </tr>\n",
              "    <tr>\n",
              "      <th>3</th>\n",
              "      <td>[白菜, 猪, 拱]</td>\n",
              "      <td>1</td>\n",
              "    </tr>\n",
              "    <tr>\n",
              "      <th>4</th>\n",
              "      <td>[中国, 国家, 希望, 放到, 博客, 中国, 篇文章, 几个, 看得懂, 全是, 浅薄,...</td>\n",
              "      <td>1</td>\n",
              "    </tr>\n",
              "    <tr>\n",
              "      <th>5</th>\n",
              "      <td>[改革开放, 抓, 经济, 搞, 政治, 文化, 建设, 培养, 一批, 劣质, 人口, 疯...</td>\n",
              "      <td>1</td>\n",
              "    </tr>\n",
              "    <tr>\n",
              "      <th>6</th>\n",
              "      <td>[吃惊,  , 青春, 爱哭, 小猪, 编, 教材, 孩子, 送到, 国外, 心理, 变态]</td>\n",
              "      <td>1</td>\n",
              "    </tr>\n",
              "    <tr>\n",
              "      <th>7</th>\n",
              "      <td>[想, 狠狠, 抽, 耳光]</td>\n",
              "      <td>1</td>\n",
              "    </tr>\n",
              "    <tr>\n",
              "      <th>8</th>\n",
              "      <td>[日本, 政府, 丧心病狂]</td>\n",
              "      <td>1</td>\n",
              "    </tr>\n",
              "    <tr>\n",
              "      <th>9</th>\n",
              "      <td>[广岛, 长崎, 死伤, 万, 老百姓, 勤奋, 忍耐, 日本政府, 王八蛋]</td>\n",
              "      <td>1</td>\n",
              "    </tr>\n",
              "    <tr>\n",
              "      <th>10</th>\n",
              "      <td>[每次, 汽油, 涨价, 前, 散布, 信息, 怎未见, 约, 谈]</td>\n",
              "      <td>1</td>\n",
              "    </tr>\n",
              "    <tr>\n",
              "      <th>11</th>\n",
              "      <td>[国企, 做, 事, 私企]</td>\n",
              "      <td>1</td>\n",
              "    </tr>\n",
              "    <tr>\n",
              "      <th>12</th>\n",
              "      <td>[马勒, 戈壁,  , 抽, 烟]</td>\n",
              "      <td>1</td>\n",
              "    </tr>\n",
              "    <tr>\n",
              "      <th>13</th>\n",
              "      <td>[气死我了]</td>\n",
              "      <td>1</td>\n",
              "    </tr>\n",
              "    <tr>\n",
              "      <th>14</th>\n",
              "      <td>[编剧, NB]</td>\n",
              "      <td>1</td>\n",
              "    </tr>\n",
              "    <tr>\n",
              "      <th>15</th>\n",
              "      <td>[气死我了]</td>\n",
              "      <td>1</td>\n",
              "    </tr>\n",
              "    <tr>\n",
              "      <th>16</th>\n",
              "      <td>[真, 心烦, 说, 讨厌, xx, 开车, 小心,  , 三轮车,  , 乌龟, 车,  ...</td>\n",
              "      <td>1</td>\n",
              "    </tr>\n",
              "    <tr>\n",
              "      <th>17</th>\n",
              "      <td>[天气, 回暖,  , 求掉, 肉, 抓狂]</td>\n",
              "      <td>1</td>\n",
              "    </tr>\n",
              "    <tr>\n",
              "      <th>18</th>\n",
              "      <td>[笑靥, 花, 社会, 宣传, 创业, 勇敢, 老板, 牛, 逼, 员工, 心不甘, 情不愿...</td>\n",
              "      <td>1</td>\n",
              "    </tr>\n",
              "    <tr>\n",
              "      <th>19</th>\n",
              "      <td>[气, 到极点]</td>\n",
              "      <td>1</td>\n",
              "    </tr>\n",
              "  </tbody>\n",
              "</table>\n",
              "</div>"
            ],
            "text/plain": [
              "                                           data_clean  label\n",
              "0                  [抓狂, 考了, 车牌, 几个, 开过, 车, 老妈, 笑话, 笨]      1\n",
              "1                              [中午, 吃, 国航, 转场, 全, 消食]      1\n",
              "2                                     [介, 来得, 晚可, 咋办]      1\n",
              "3                                          [白菜, 猪, 拱]      1\n",
              "4   [中国, 国家, 希望, 放到, 博客, 中国, 篇文章, 几个, 看得懂, 全是, 浅薄,...      1\n",
              "5   [改革开放, 抓, 经济, 搞, 政治, 文化, 建设, 培养, 一批, 劣质, 人口, 疯...      1\n",
              "6      [吃惊,  , 青春, 爱哭, 小猪, 编, 教材, 孩子, 送到, 国外, 心理, 变态]      1\n",
              "7                                      [想, 狠狠, 抽, 耳光]      1\n",
              "8                                      [日本, 政府, 丧心病狂]      1\n",
              "9             [广岛, 长崎, 死伤, 万, 老百姓, 勤奋, 忍耐, 日本政府, 王八蛋]      1\n",
              "10                 [每次, 汽油, 涨价, 前, 散布, 信息, 怎未见, 约, 谈]      1\n",
              "11                                     [国企, 做, 事, 私企]      1\n",
              "12                                  [马勒, 戈壁,  , 抽, 烟]      1\n",
              "13                                             [气死我了]      1\n",
              "14                                           [编剧, NB]      1\n",
              "15                                             [气死我了]      1\n",
              "16  [真, 心烦, 说, 讨厌, xx, 开车, 小心,  , 三轮车,  , 乌龟, 车,  ...      1\n",
              "17                             [天气, 回暖,  , 求掉, 肉, 抓狂]      1\n",
              "18  [笑靥, 花, 社会, 宣传, 创业, 勇敢, 老板, 牛, 逼, 员工, 心不甘, 情不愿...      1\n",
              "19                                           [气, 到极点]      1"
            ]
          },
          "metadata": {
            "tags": []
          },
          "execution_count": 20
        }
      ]
    },
    {
      "cell_type": "code",
      "metadata": {
        "id": "HYWquxy-wVkg",
        "colab_type": "code",
        "colab": {}
      },
      "source": [
        "from sklearn.model_selection import train_test_split\n",
        "\n",
        "x_train, x_test, y_train, y_test = train_test_split(df_train['data_clean'].values, df_train['label'].values, random_state=1)"
      ],
      "execution_count": 0,
      "outputs": []
    },
    {
      "cell_type": "code",
      "metadata": {
        "id": "SX2ejx5_wVki",
        "colab_type": "code",
        "outputId": "9bd6299f-3bfa-4dae-ecec-0aad82ae8263",
        "colab": {
          "base_uri": "https://localhost:8080/",
          "height": 34
        }
      },
      "source": [
        "#x_train = x_train.flatten()\n",
        "x_train.shape"
      ],
      "execution_count": 0,
      "outputs": [
        {
          "output_type": "execute_result",
          "data": {
            "text/plain": [
              "(14616,)"
            ]
          },
          "metadata": {
            "tags": []
          },
          "execution_count": 22
        }
      ]
    },
    {
      "cell_type": "code",
      "metadata": {
        "id": "A3s0kz02wVko",
        "colab_type": "code",
        "outputId": "d8eea7b5-b07a-4c87-9cf4-aae0c82692e5",
        "colab": {
          "base_uri": "https://localhost:8080/",
          "height": 34
        }
      },
      "source": [
        "words = []\n",
        "for line_index in range(len(x_train)):\n",
        "    try:\n",
        "        #x_train[line_index][word_index] = str(x_train[line_index][word_index])\n",
        "        words.append(' '.join(x_train[line_index]))\n",
        "    except:\n",
        "        print (line_index,word_index)\n",
        "words[1]        "
      ],
      "execution_count": 0,
      "outputs": [
        {
          "output_type": "execute_result",
          "data": {
            "text/plain": [
              "'伤害 踏进 电影院 步入 礼堂 稀罕 微笑 微笑 微笑 微笑 \\u200b \\u200b \\u200b'"
            ]
          },
          "metadata": {
            "tags": []
          },
          "execution_count": 23
        }
      ]
    },
    {
      "cell_type": "code",
      "metadata": {
        "id": "RtZwDFz1wVkr",
        "colab_type": "code",
        "outputId": "b0d0fb67-76e3-45c5-ad07-15a981267c51",
        "colab": {
          "base_uri": "https://localhost:8080/",
          "height": 34
        }
      },
      "source": [
        "total_num = len(words)\n",
        "print(total_num)"
      ],
      "execution_count": 0,
      "outputs": [
        {
          "output_type": "stream",
          "text": [
            "14616\n"
          ],
          "name": "stdout"
        }
      ]
    },
    {
      "cell_type": "code",
      "metadata": {
        "id": "K1i8_12XwVkt",
        "colab_type": "code",
        "outputId": "c4f811ba-81b3-432c-b430-d6f02376dbeb",
        "colab": {}
      },
      "source": [
        "'''\n",
        "from sklearn.feature_extraction.text import CountVectorizer\n",
        "texts=[\"dog cat fish\",\"dog cat cat\",\"fish bird\", 'bird']\n",
        "cv = CountVectorizer()\n",
        "cv_fit=cv.fit_transform(texts)\n",
        "\n",
        "print(cv.get_feature_names())\n",
        "print(cv_fit.toarray())\n",
        "\n",
        "\n",
        "print(cv_fit.toarray().sum(axis=0))\n",
        "'''"
      ],
      "execution_count": 0,
      "outputs": [
        {
          "output_type": "stream",
          "text": [
            "['bird', 'cat', 'dog', 'fish']\n",
            "[[0 1 1 1]\n",
            " [0 2 1 0]\n",
            " [1 0 0 1]\n",
            " [1 0 0 0]]\n",
            "[2 3 2 2]\n"
          ],
          "name": "stdout"
        }
      ]
    },
    {
      "cell_type": "code",
      "metadata": {
        "id": "cBnxASXzwVkz",
        "colab_type": "code",
        "outputId": "f7213dad-505c-43a1-8bec-f3462bb00c65",
        "colab": {}
      },
      "source": [
        "'''\n",
        "from sklearn.feature_extraction.text import CountVectorizer\n",
        "texts=[\"dog cat fish\",\"dog cat cat\",\"fish bird\", 'bird']\n",
        "cv = CountVectorizer(ngram_range=(1,4))\n",
        "cv_fit=cv.fit_transform(texts)\n",
        "\n",
        "print(cv.get_feature_names())\n",
        "print(cv_fit.toarray())\n",
        "\n",
        "\n",
        "print(cv_fit.toarray().sum(axis=0))\n",
        "'''"
      ],
      "execution_count": 0,
      "outputs": [
        {
          "output_type": "stream",
          "text": [
            "['bird', 'cat', 'cat cat', 'cat fish', 'dog', 'dog cat', 'dog cat cat', 'dog cat fish', 'fish', 'fish bird']\n",
            "[[0 1 0 1 1 1 0 1 1 0]\n",
            " [0 2 1 0 1 1 1 0 0 0]\n",
            " [1 0 0 0 0 0 0 0 1 1]\n",
            " [1 0 0 0 0 0 0 0 0 0]]\n",
            "[2 3 1 1 2 2 1 1 2 1]\n"
          ],
          "name": "stdout"
        }
      ]
    },
    {
      "cell_type": "code",
      "metadata": {
        "id": "YoVbgMU2wVk5",
        "colab_type": "code",
        "colab": {}
      },
      "source": [
        "def build_sentence_vector(text,size,imdb_w2v):\n",
        "    vec=numpy.zeros(size).reshape((1,size))\n",
        "    count=0\n",
        "    for word in text:\n",
        "        try:\n",
        "            vec+=imdb_w2v[word].reshape((1,size))\n",
        "            count+=1\n",
        "        except KeyError:\n",
        "            continue\n",
        "    if count !=0:\n",
        "        vec/=count\n",
        "    return vec"
      ],
      "execution_count": 0,
      "outputs": []
    },
    {
      "cell_type": "code",
      "metadata": {
        "id": "B6xGfzMAwVk7",
        "colab_type": "code",
        "outputId": "2c70fbfe-914b-4def-bbed-2e8cb7368d1d",
        "colab": {
          "base_uri": "https://localhost:8080/",
          "height": 71
        }
      },
      "source": [
        "from sklearn.feature_extraction.text import CountVectorizer\n",
        "#from gensim.sklearn_api import W2VTransformer\n",
        "#from gensim.models.doc2vec import Doc2Vec, TaggedDocument\n",
        "#from gensim.test.utils import common_texts\n",
        "#vec = CountVectorizer(analyzer='word', max_features=4000,  lowercase = False)\n",
        "#vec.fit(words)\n",
        "from gensim.models.word2vec import Word2Vec\n",
        "#vec2 = Word2Vec(words)\n",
        "#vec2 = word2vec.Word2Vec(words,min_count=1)\n",
        "\n",
        "n_dim = 300\n",
        "imdb_w2v = Word2Vec(size=n_dim,min_count=10)#初始化模型\n",
        "imdb_w2v.build_vocab(words)#确定词表\n",
        "imdb_w2v.train(words,total_examples = total_num,epochs=5)#在评论训练集上建模\n",
        "train_vecs=numpy.concatenate([build_sentence_vector(z,n_dim,imdb_w2v) for z in words])\n"
      ],
      "execution_count": 0,
      "outputs": [
        {
          "output_type": "stream",
          "text": [
            "/usr/local/lib/python3.6/dist-packages/ipykernel_launcher.py:6: DeprecationWarning: Call to deprecated `__getitem__` (Method will be removed in 4.0.0, use self.wv.__getitem__() instead).\n",
            "  \n"
          ],
          "name": "stderr"
        }
      ]
    },
    {
      "cell_type": "code",
      "metadata": {
        "id": "WnRnOCtewVk-",
        "colab_type": "code",
        "outputId": "438da936-e22b-4d7b-f22f-f1cf341bec96",
        "colab": {
          "base_uri": "https://localhost:8080/",
          "height": 34
        }
      },
      "source": [
        "train_vecs.shape"
      ],
      "execution_count": 0,
      "outputs": [
        {
          "output_type": "execute_result",
          "data": {
            "text/plain": [
              "(14616, 300)"
            ]
          },
          "metadata": {
            "tags": []
          },
          "execution_count": 27
        }
      ]
    },
    {
      "cell_type": "code",
      "metadata": {
        "id": "OYgk45kxwVlB",
        "colab_type": "code",
        "outputId": "48f48af5-cd4e-468f-eca7-60758c37e584",
        "colab": {
          "base_uri": "https://localhost:8080/",
          "height": 139
        }
      },
      "source": [
        "from sklearn.naive_bayes import MultinomialNB\n",
        "from sklearn.svm import LinearSVC\n",
        "#classifier = MultinomialNB()\n",
        "classifier = LinearSVC()\n",
        "classifier.fit(train_vecs, y_train)"
      ],
      "execution_count": 0,
      "outputs": [
        {
          "output_type": "stream",
          "text": [
            "/usr/local/lib/python3.6/dist-packages/sklearn/svm/base.py:931: ConvergenceWarning: Liblinear failed to converge, increase the number of iterations.\n",
            "  \"the number of iterations.\", ConvergenceWarning)\n"
          ],
          "name": "stderr"
        },
        {
          "output_type": "execute_result",
          "data": {
            "text/plain": [
              "LinearSVC(C=1.0, class_weight=None, dual=True, fit_intercept=True,\n",
              "     intercept_scaling=1, loss='squared_hinge', max_iter=1000,\n",
              "     multi_class='ovr', penalty='l2', random_state=None, tol=0.0001,\n",
              "     verbose=0)"
            ]
          },
          "metadata": {
            "tags": []
          },
          "execution_count": 28
        }
      ]
    },
    {
      "cell_type": "code",
      "metadata": {
        "id": "CGygLaQOwVlD",
        "colab_type": "code",
        "outputId": "f0ade465-1814-4c94-824f-1cdae8d9f982",
        "colab": {
          "base_uri": "https://localhost:8080/",
          "height": 34
        }
      },
      "source": [
        "test_words = []\n",
        "for line_index in range(len(x_test)):\n",
        "    try:\n",
        "        #x_train[line_index][word_index] = str(x_train[line_index][word_index])\n",
        "        test_words.append(' '.join(x_test[line_index]))\n",
        "    except:\n",
        "         print (line_index,word_index)\n",
        "len(test_words)"
      ],
      "execution_count": 0,
      "outputs": [
        {
          "output_type": "execute_result",
          "data": {
            "text/plain": [
              "4873"
            ]
          },
          "metadata": {
            "tags": []
          },
          "execution_count": 29
        }
      ]
    },
    {
      "cell_type": "code",
      "metadata": {
        "id": "O69g9bmwwVlG",
        "colab_type": "code",
        "outputId": "da9c7e04-ee89-4af0-8669-91608b7c0fe0",
        "colab": {
          "base_uri": "https://localhost:8080/",
          "height": 71
        }
      },
      "source": [
        "test_vecs=numpy.concatenate([build_sentence_vector(z,n_dim,imdb_w2v) for z in test_words])"
      ],
      "execution_count": 0,
      "outputs": [
        {
          "output_type": "stream",
          "text": [
            "/usr/local/lib/python3.6/dist-packages/ipykernel_launcher.py:6: DeprecationWarning: Call to deprecated `__getitem__` (Method will be removed in 4.0.0, use self.wv.__getitem__() instead).\n",
            "  \n"
          ],
          "name": "stderr"
        }
      ]
    },
    {
      "cell_type": "code",
      "metadata": {
        "id": "gO7oy6OKwVlM",
        "colab_type": "code",
        "outputId": "56a40ee8-1a08-450e-e9c9-962706135798",
        "colab": {
          "base_uri": "https://localhost:8080/",
          "height": 34
        }
      },
      "source": [
        "classifier.score(test_vecs, y_test)"
      ],
      "execution_count": 0,
      "outputs": [
        {
          "output_type": "execute_result",
          "data": {
            "text/plain": [
              "0.4680894726041453"
            ]
          },
          "metadata": {
            "tags": []
          },
          "execution_count": 31
        }
      ]
    },
    {
      "cell_type": "code",
      "metadata": {
        "id": "FKRoPvRbwVlW",
        "colab_type": "code",
        "outputId": "ceae8761-1f09-4ee7-bd8e-bee62a6aabc3",
        "colab": {
          "base_uri": "https://localhost:8080/",
          "height": 136
        }
      },
      "source": [
        "from sklearn.feature_extraction.text import TfidfVectorizer\n",
        "\n",
        "vectorizer = TfidfVectorizer(analyzer='word', max_features=4000,  lowercase = False)\n",
        "vectorizer.fit(words)"
      ],
      "execution_count": 0,
      "outputs": [
        {
          "output_type": "execute_result",
          "data": {
            "text/plain": [
              "TfidfVectorizer(analyzer='word', binary=False, decode_error='strict',\n",
              "        dtype=<class 'numpy.float64'>, encoding='utf-8', input='content',\n",
              "        lowercase=False, max_df=1.0, max_features=4000, min_df=1,\n",
              "        ngram_range=(1, 1), norm='l2', preprocessor=None, smooth_idf=True,\n",
              "        stop_words=None, strip_accents=None, sublinear_tf=False,\n",
              "        token_pattern='(?u)\\\\b\\\\w\\\\w+\\\\b', tokenizer=None, use_idf=True,\n",
              "        vocabulary=None)"
            ]
          },
          "metadata": {
            "tags": []
          },
          "execution_count": 32
        }
      ]
    },
    {
      "cell_type": "code",
      "metadata": {
        "id": "q9tg7KIKwVlb",
        "colab_type": "code",
        "outputId": "57458dcb-e877-47fe-be10-f85e15518d3c",
        "colab": {
          "base_uri": "https://localhost:8080/",
          "height": 85
        }
      },
      "source": [
        "from sklearn.naive_bayes import MultinomialNB\n",
        "#classifier = MultinomialNB()\n",
        "classifier = LinearSVC(max_iter = 2000)\n",
        "classifier.fit(vectorizer.transform(words), y_train)"
      ],
      "execution_count": 0,
      "outputs": [
        {
          "output_type": "execute_result",
          "data": {
            "text/plain": [
              "LinearSVC(C=1.0, class_weight=None, dual=True, fit_intercept=True,\n",
              "     intercept_scaling=1, loss='squared_hinge', max_iter=2000,\n",
              "     multi_class='ovr', penalty='l2', random_state=None, tol=0.0001,\n",
              "     verbose=0)"
            ]
          },
          "metadata": {
            "tags": []
          },
          "execution_count": 33
        }
      ]
    },
    {
      "cell_type": "code",
      "metadata": {
        "id": "1AJIzdrrwVld",
        "colab_type": "code",
        "outputId": "09689b2f-d830-4097-dd3b-11f75b187976",
        "colab": {
          "base_uri": "https://localhost:8080/",
          "height": 34
        }
      },
      "source": [
        "classifier.score(vectorizer.transform(test_words), y_test)"
      ],
      "execution_count": 0,
      "outputs": [
        {
          "output_type": "execute_result",
          "data": {
            "text/plain": [
              "0.49086804843012516"
            ]
          },
          "metadata": {
            "tags": []
          },
          "execution_count": 34
        }
      ]
    },
    {
      "cell_type": "code",
      "metadata": {
        "id": "yWfQTP68wVlh",
        "colab_type": "code",
        "outputId": "4a43edc6-57cf-4e0d-b500-0487e40281f0",
        "colab": {
          "base_uri": "https://localhost:8080/",
          "height": 34
        }
      },
      "source": [
        "from sklearn.naive_bayes import MultinomialNB\n",
        "classifier = MultinomialNB()\n",
        "#classifier = LinearSVC()\n",
        "classifier.fit(vectorizer.transform(words), y_train)"
      ],
      "execution_count": 0,
      "outputs": [
        {
          "output_type": "execute_result",
          "data": {
            "text/plain": [
              "MultinomialNB(alpha=1.0, class_prior=None, fit_prior=True)"
            ]
          },
          "metadata": {
            "tags": []
          },
          "execution_count": 35
        }
      ]
    },
    {
      "cell_type": "code",
      "metadata": {
        "id": "psF5v_eWwVln",
        "colab_type": "code",
        "outputId": "eefede56-46a9-4ea9-bfef-b1fb87773bca",
        "colab": {
          "base_uri": "https://localhost:8080/",
          "height": 34
        }
      },
      "source": [
        "classifier.score(vectorizer.transform(test_words), y_test)"
      ],
      "execution_count": 0,
      "outputs": [
        {
          "output_type": "execute_result",
          "data": {
            "text/plain": [
              "0.49209932279909707"
            ]
          },
          "metadata": {
            "tags": []
          },
          "execution_count": 36
        }
      ]
    },
    {
      "cell_type": "code",
      "metadata": {
        "id": "jvqjLODywVlq",
        "colab_type": "code",
        "colab": {}
      },
      "source": [
        ""
      ],
      "execution_count": 0,
      "outputs": []
    }
  ]
}